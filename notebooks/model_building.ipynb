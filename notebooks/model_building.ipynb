{
 "cells": [
  {
   "cell_type": "markdown",
   "metadata": {},
   "source": [
    "Build a regression model."
   ]
  },
  {
   "cell_type": "code",
   "execution_count": 4,
   "metadata": {},
   "outputs": [],
   "source": [
    "import pandas as pd\n",
    "import matplotlib.pyplot as plt\n",
    "import numpy as np\n",
    "import seaborn as sns\n",
    "import statsmodels.api as sm"
   ]
  },
  {
   "cell_type": "markdown",
   "metadata": {},
   "source": [
    "Provide model output and an interpretation of the results. "
   ]
  },
  {
   "cell_type": "code",
   "execution_count": 2,
   "metadata": {},
   "outputs": [],
   "source": [
    "# Load all the different dataframes created \n",
    "# bike stations df\n",
    "%store -r df_stations\n",
    "#foursquare API df\n",
    "%store -r foursquare_data_clean\n",
    "# merged bike station and API df\n",
    "%store -r combined_df\n",
    "# Aggregated df for minimum distance, foursquare_ids, bike capacity\n",
    "%store -r dist_fsq_cap"
   ]
  },
  {
   "cell_type": "code",
   "execution_count": 23,
   "metadata": {},
   "outputs": [
    {
     "name": "stdout",
     "output_type": "stream",
     "text": [
      "                            OLS Regression Results                            \n",
      "==============================================================================\n",
      "Dep. Variable:               capacity   R-squared:                       0.004\n",
      "Model:                            OLS   Adj. R-squared:                  0.003\n",
      "Method:                 Least Squares   F-statistic:                     5.960\n",
      "Date:                Wed, 07 May 2025   Prob (F-statistic):             0.0147\n",
      "Time:                        18:48:03   Log-Likelihood:                -5877.5\n",
      "No. Observations:                1574   AIC:                         1.176e+04\n",
      "Df Residuals:                    1572   BIC:                         1.177e+04\n",
      "Df Model:                           1                                         \n",
      "Covariance Type:            nonrobust                                         \n",
      "==============================================================================\n",
      "                 coef    std err          t      P>|t|      [0.025      0.975]\n",
      "------------------------------------------------------------------------------\n",
      "const         10.3169      0.492     20.985      0.000       9.353      11.281\n",
      "distance       0.0037      0.001      2.441      0.015       0.001       0.007\n",
      "==============================================================================\n",
      "Omnibus:                     1125.829   Durbin-Watson:                   1.933\n",
      "Prob(Omnibus):                  0.000   Jarque-Bera (JB):            18190.585\n",
      "Skew:                           3.216   Prob(JB):                         0.00\n",
      "Kurtosis:                      18.362   Cond. No.                         631.\n",
      "==============================================================================\n",
      "\n",
      "Notes:\n",
      "[1] Standard Errors assume that the covariance matrix of the errors is correctly specified.\n"
     ]
    }
   ],
   "source": [
    "#Simple linear regression model to view the relationship between view and venue distance from station and station bike capacity/total available\n",
    "y = dist_fsq_cap['capacity']\n",
    "x = dist_fsq_cap['distance']\n",
    "X = sm.add_constant(x)\n",
    "\n",
    "model = sm.OLS(y, X)\n",
    "results = model.fit()\n",
    "print(results.summary())"
   ]
  },
  {
   "cell_type": "markdown",
   "metadata": {},
   "source": [
    "The simplie linear regression model to view the relationship between venue(parks,cafe, bars) and station bike availablility is non existant.\n",
    "From there a second OLS model will be devised to see if there's a stronger relationship between park distance and bike availability\n"
   ]
  },
  {
   "cell_type": "code",
   "execution_count": 6,
   "metadata": {},
   "outputs": [
    {
     "name": "stdout",
     "output_type": "stream",
     "text": [
      "                            OLS Regression Results                            \n",
      "==============================================================================\n",
      "Dep. Variable:                 fsq_id   R-squared:                       0.090\n",
      "Model:                            OLS   Adj. R-squared:                  0.089\n",
      "Method:                 Least Squares   F-statistic:                     152.9\n",
      "Date:                Sat, 10 May 2025   Prob (F-statistic):           1.46e-33\n",
      "Time:                        15:29:12   Log-Likelihood:                -4403.0\n",
      "No. Observations:                1552   AIC:                             8810.\n",
      "Df Residuals:                    1550   BIC:                             8821.\n",
      "Df Model:                           1                                         \n",
      "Covariance Type:            nonrobust                                         \n",
      "==============================================================================\n",
      "                 coef    std err          t      P>|t|      [0.025      0.975]\n",
      "------------------------------------------------------------------------------\n",
      "const         12.7853      0.195     65.566      0.000      12.403      13.168\n",
      "distance      -0.0063      0.001    -12.365      0.000      -0.007      -0.005\n",
      "==============================================================================\n",
      "Omnibus:                       52.854   Durbin-Watson:                   1.947\n",
      "Prob(Omnibus):                  0.000   Jarque-Bera (JB):               57.430\n",
      "Skew:                           0.462   Prob(JB):                     3.38e-13\n",
      "Kurtosis:                       3.180   Cond. No.                         717.\n",
      "==============================================================================\n",
      "\n",
      "Notes:\n",
      "[1] Standard Errors assume that the covariance matrix of the errors is correctly specified.\n"
     ]
    }
   ],
   "source": [
    "#Linear regression model viewing the relationship between number of fsq_ids and distance.\n",
    "\n",
    "y = dist_fsq_cap['fsq_id']\n",
    "x = dist_fsq_cap['distance']\n",
    "X = sm.add_constant(x)\n",
    "\n",
    "model = sm.OLS(y, X)\n",
    "results = model.fit()\n",
    "print(results.summary())\n"
   ]
  },
  {
   "cell_type": "markdown",
   "metadata": {},
   "source": [
    "Based off of the values from the regression model it appears as though venue type proximity such as parks doesn't have any bearing how many bikes are stocked at each station. "
   ]
  },
  {
   "cell_type": "markdown",
   "metadata": {},
   "source": [
    "# Stretch"
   ]
  },
  {
   "cell_type": "markdown",
   "metadata": {},
   "source": [
    "How can you turn the regression model into a classification model?"
   ]
  },
  {
   "cell_type": "code",
   "execution_count": null,
   "metadata": {},
   "outputs": [],
   "source": []
  }
 ],
 "metadata": {
  "kernelspec": {
   "display_name": "base",
   "language": "python",
   "name": "python3"
  },
  "language_info": {
   "codemirror_mode": {
    "name": "ipython",
    "version": 3
   },
   "file_extension": ".py",
   "mimetype": "text/x-python",
   "name": "python",
   "nbconvert_exporter": "python",
   "pygments_lexer": "ipython3",
   "version": "3.12.7"
  }
 },
 "nbformat": 4,
 "nbformat_minor": 4
}
