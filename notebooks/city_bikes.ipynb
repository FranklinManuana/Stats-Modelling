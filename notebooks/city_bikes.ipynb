{
 "cells": [
  {
   "cell_type": "markdown",
   "metadata": {},
   "source": [
    "# CityBikes"
   ]
  },
  {
   "cell_type": "markdown",
   "metadata": {},
   "source": [
    "Send a request to CityBikes for the city of your choice. "
   ]
  },
  {
   "cell_type": "code",
   "execution_count": 3,
   "metadata": {},
   "outputs": [],
   "source": [
    "# import necessary libraries\n",
    "import requests\n",
    "import pandas as pd\n",
    "import json\n"
   ]
  },
  {
   "cell_type": "code",
   "execution_count": null,
   "metadata": {},
   "outputs": [],
   "source": [
    "# make a pull request on the networks\n",
    "response = requests.get(\"https://api.citybik.es/v2/networks\")\n",
    "results_dict = response.json()\n",
    "\n",
    "# explore json file structure\n",
    "results_dict.keys()"
   ]
  },
  {
   "cell_type": "code",
   "execution_count": null,
   "metadata": {},
   "outputs": [],
   "source": [
    "# see inside networks dictionary\n",
    "results_dict[\"networks\"]\n",
    "response_network = results_dict['networks']\n",
    "response_network[0].keys()"
   ]
  },
  {
   "cell_type": "code",
   "execution_count": null,
   "metadata": {},
   "outputs": [],
   "source": [
    "# Get view of location dictionary structure\n",
    "response_network[0]['location']"
   ]
  },
  {
   "cell_type": "code",
   "execution_count": null,
   "metadata": {},
   "outputs": [],
   "source": [
    "# Make a function to pull for Tokyo\n",
    "def tokyo_networks(response_network):\n",
    "    network_list = []\n",
    "    for i in range(len(response_network)):\n",
    "        if 'tokyo' in response_network[i]['location']['city'].lower():\n",
    "            network_list.append(response_network[i])\n",
    "    return network_list\n",
    "\n",
    "values_tokyo = tokyo_networks(response_network)\n"
   ]
  },
  {
   "cell_type": "code",
   "execution_count": null,
   "metadata": {},
   "outputs": [],
   "source": [
    "# Output shows multiple networks. Will pick docomo-cycle-tokyo network for endpoint API\n",
    "tokyo_docomo = requests.get(values_tokyo[0]['gbfs_href'])\n",
    "tokyo_json = tokyo_docomo.json()\n",
    "tokyo_json['data']\n",
    "# Find location of station information and make a new pull\n",
    "station = tokyo_json['data']['ja']['feeds'][2]\n",
    "station_info = requests.get(station['url'])\n",
    "station_info = station_info.json()\n",
    "station_info"
   ]
  },
  {
   "cell_type": "markdown",
   "metadata": {},
   "source": [
    "Parse through the response to get the details you want for the bike stations in that city (latitude, longitude, number of bikes). "
   ]
  },
  {
   "cell_type": "code",
   "execution_count": null,
   "metadata": {},
   "outputs": [],
   "source": [
    "# Go through docomo tokyo network station_info response for location information\n",
    "station_location = station_info['data']['stations']\n",
    "station_location"
   ]
  },
  {
   "cell_type": "markdown",
   "metadata": {},
   "source": [
    "Put your parsed results into a DataFrame."
   ]
  },
  {
   "cell_type": "code",
   "execution_count": 13,
   "metadata": {},
   "outputs": [],
   "source": [
    "# Save station_location json file\n",
    "with open('tokyo_bike_stations.json', 'w') as f:\n",
    "    json.dump(station_location, f)"
   ]
  },
  {
   "cell_type": "code",
   "execution_count": 5,
   "metadata": {},
   "outputs": [],
   "source": [
    "# Store created station json file into a variable to avoid making constant calls\n",
    "with open('tokyo_bike_stations.json') as f:\n",
    "    stations_data = json.load(f)\n"
   ]
  },
  {
   "cell_type": "code",
   "execution_count": 11,
   "metadata": {},
   "outputs": [
    {
     "data": {
      "text/html": [
       "<div>\n",
       "<style scoped>\n",
       "    .dataframe tbody tr th:only-of-type {\n",
       "        vertical-align: middle;\n",
       "    }\n",
       "\n",
       "    .dataframe tbody tr th {\n",
       "        vertical-align: top;\n",
       "    }\n",
       "\n",
       "    .dataframe thead th {\n",
       "        text-align: right;\n",
       "    }\n",
       "</style>\n",
       "<table border=\"1\" class=\"dataframe\">\n",
       "  <thead>\n",
       "    <tr style=\"text-align: right;\">\n",
       "      <th></th>\n",
       "      <th>lat</th>\n",
       "      <th>lon</th>\n",
       "      <th>name</th>\n",
       "      <th>capacity</th>\n",
       "      <th>region_id</th>\n",
       "      <th>station_id</th>\n",
       "      <th>station_number</th>\n",
       "    </tr>\n",
       "  </thead>\n",
       "  <tbody>\n",
       "    <tr>\n",
       "      <th>0</th>\n",
       "      <td>35.693799</td>\n",
       "      <td>139.753281</td>\n",
       "      <td>A1-01.千代田区役所</td>\n",
       "      <td>5</td>\n",
       "      <td>1</td>\n",
       "      <td>00010001</td>\n",
       "      <td>1</td>\n",
       "    </tr>\n",
       "    <tr>\n",
       "      <th>1</th>\n",
       "      <td>35.701073</td>\n",
       "      <td>139.747525</td>\n",
       "      <td>A1-03.東京区政会館（メトロA5出口）</td>\n",
       "      <td>7</td>\n",
       "      <td>1</td>\n",
       "      <td>00010003</td>\n",
       "      <td>2</td>\n",
       "    </tr>\n",
       "    <tr>\n",
       "      <th>2</th>\n",
       "      <td>35.701347</td>\n",
       "      <td>139.746951</td>\n",
       "      <td>A1-04.東京区政会館（西側駐輪場）</td>\n",
       "      <td>6</td>\n",
       "      <td>1</td>\n",
       "      <td>00010004</td>\n",
       "      <td>3</td>\n",
       "    </tr>\n",
       "    <tr>\n",
       "      <th>3</th>\n",
       "      <td>35.699187</td>\n",
       "      <td>139.746348</td>\n",
       "      <td>A1-05.富士見出張所</td>\n",
       "      <td>9</td>\n",
       "      <td>1</td>\n",
       "      <td>00010005</td>\n",
       "      <td>4</td>\n",
       "    </tr>\n",
       "    <tr>\n",
       "      <th>4</th>\n",
       "      <td>35.699132</td>\n",
       "      <td>139.744620</td>\n",
       "      <td>A1-08.飯田橋サクラテラス（早稲田通り）</td>\n",
       "      <td>10</td>\n",
       "      <td>1</td>\n",
       "      <td>00010036</td>\n",
       "      <td>5</td>\n",
       "    </tr>\n",
       "    <tr>\n",
       "      <th>...</th>\n",
       "      <td>...</td>\n",
       "      <td>...</td>\n",
       "      <td>...</td>\n",
       "      <td>...</td>\n",
       "      <td>...</td>\n",
       "      <td>...</td>\n",
       "      <td>...</td>\n",
       "    </tr>\n",
       "    <tr>\n",
       "      <th>1577</th>\n",
       "      <td>35.514643</td>\n",
       "      <td>139.706285</td>\n",
       "      <td>Z21.コーナン川崎小田栄店</td>\n",
       "      <td>5</td>\n",
       "      <td>11</td>\n",
       "      <td>00000205</td>\n",
       "      <td>1578</td>\n",
       "    </tr>\n",
       "    <tr>\n",
       "      <th>1578</th>\n",
       "      <td>35.532615</td>\n",
       "      <td>139.700332</td>\n",
       "      <td>Z22.みんちゅう京急川崎駅前駐輪場内ラックスペース</td>\n",
       "      <td>3</td>\n",
       "      <td>11</td>\n",
       "      <td>00000928</td>\n",
       "      <td>1579</td>\n",
       "    </tr>\n",
       "    <tr>\n",
       "      <th>1579</th>\n",
       "      <td>35.524976</td>\n",
       "      <td>139.697495</td>\n",
       "      <td>Z23.NA川崎南町</td>\n",
       "      <td>5</td>\n",
       "      <td>11</td>\n",
       "      <td>00001583</td>\n",
       "      <td>1580</td>\n",
       "    </tr>\n",
       "    <tr>\n",
       "      <th>1580</th>\n",
       "      <td>35.525854</td>\n",
       "      <td>139.717848</td>\n",
       "      <td>Z24.総合川崎臨港病院</td>\n",
       "      <td>4</td>\n",
       "      <td>11</td>\n",
       "      <td>00002196</td>\n",
       "      <td>1581</td>\n",
       "    </tr>\n",
       "    <tr>\n",
       "      <th>1581</th>\n",
       "      <td>35.522866</td>\n",
       "      <td>139.730191</td>\n",
       "      <td>Z25.ローソン池上新町店</td>\n",
       "      <td>5</td>\n",
       "      <td>11</td>\n",
       "      <td>00003890</td>\n",
       "      <td>1582</td>\n",
       "    </tr>\n",
       "  </tbody>\n",
       "</table>\n",
       "<p>1582 rows × 7 columns</p>\n",
       "</div>"
      ],
      "text/plain": [
       "            lat         lon                        name  capacity region_id  \\\n",
       "0     35.693799  139.753281                A1-01.千代田区役所         5         1   \n",
       "1     35.701073  139.747525       A1-03.東京区政会館（メトロA5出口）         7         1   \n",
       "2     35.701347  139.746951         A1-04.東京区政会館（西側駐輪場）         6         1   \n",
       "3     35.699187  139.746348                A1-05.富士見出張所         9         1   \n",
       "4     35.699132  139.744620      A1-08.飯田橋サクラテラス（早稲田通り）        10         1   \n",
       "...         ...         ...                         ...       ...       ...   \n",
       "1577  35.514643  139.706285              Z21.コーナン川崎小田栄店         5        11   \n",
       "1578  35.532615  139.700332  Z22.みんちゅう京急川崎駅前駐輪場内ラックスペース         3        11   \n",
       "1579  35.524976  139.697495                  Z23.NA川崎南町         5        11   \n",
       "1580  35.525854  139.717848                Z24.総合川崎臨港病院         4        11   \n",
       "1581  35.522866  139.730191               Z25.ローソン池上新町店         5        11   \n",
       "\n",
       "     station_id  station_number  \n",
       "0      00010001               1  \n",
       "1      00010003               2  \n",
       "2      00010004               3  \n",
       "3      00010005               4  \n",
       "4      00010036               5  \n",
       "...         ...             ...  \n",
       "1577   00000205            1578  \n",
       "1578   00000928            1579  \n",
       "1579   00001583            1580  \n",
       "1580   00002196            1581  \n",
       "1581   00003890            1582  \n",
       "\n",
       "[1582 rows x 7 columns]"
      ]
     },
     "execution_count": 11,
     "metadata": {},
     "output_type": "execute_result"
    }
   ],
   "source": [
    "# store data in dataframe and add station column \n",
    "df_stations = pd.DataFrame.from_records(stations_data)\n",
    "df_stations\n",
    "station_number = []\n",
    "for i in range(len(stations_data)):\n",
    "    station_number.append(i + 1) \n",
    "\n",
    "df_stations['station_number'] = station_number\n",
    "df_stations"
   ]
  },
  {
   "cell_type": "code",
   "execution_count": null,
   "metadata": {},
   "outputs": [
    {
     "name": "stdout",
     "output_type": "stream",
     "text": [
      "Stored 'stations_data' (list)\n",
      "Stored 'df_stations' (DataFrame)\n"
     ]
    }
   ],
   "source": [
    "# store Values to be used for data joining \n",
    "%store stations_data\n",
    "%store df_stations"
   ]
  }
 ],
 "metadata": {
  "kernelspec": {
   "display_name": "base",
   "language": "python",
   "name": "python3"
  },
  "language_info": {
   "codemirror_mode": {
    "name": "ipython",
    "version": 3
   },
   "file_extension": ".py",
   "mimetype": "text/x-python",
   "name": "python",
   "nbconvert_exporter": "python",
   "pygments_lexer": "ipython3",
   "version": "3.12.7"
  }
 },
 "nbformat": 4,
 "nbformat_minor": 4
}
